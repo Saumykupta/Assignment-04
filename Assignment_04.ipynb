{
  "nbformat": 4,
  "nbformat_minor": 0,
  "metadata": {
    "colab": {
      "provenance": []
    },
    "kernelspec": {
      "name": "python3",
      "display_name": "Python 3"
    },
    "language_info": {
      "name": "python"
    }
  },
  "cells": [
    {
      "cell_type": "markdown",
      "source": [
        "Question1:  What exactly is [ ]?\n",
        "\n",
        "Ans: The empty list value, which is a list value that contains no items. This is similar to how '' is the empty string value.\n",
        "\n",
        "---\n",
        "\n",
        "\n",
        "\n",
        "---\n",
        "\n"
      ],
      "metadata": {
        "id": "6DARzVLeAW7g"
      }
    },
    {
      "cell_type": "markdown",
      "source": [
        "Question2: In a list of values stored in a variable called spam, how would you assign the value 'hello' as the\n",
        "third value? (Assume [2, 4, 6, 8, 10] are in spam.)\n",
        "Lets pretend the spam includes the list [a,b,c,d] for the next three queries.\n",
        "\n",
        "Ans: spam[2] = 'hello' (Notice that the third value in a list is at index 2 because the first index is 0.)\n",
        "\n",
        "---\n",
        "\n",
        "\n",
        "\n",
        "---\n",
        "\n"
      ],
      "metadata": {
        "id": "bt7AmUxyAuXc"
      }
    },
    {
      "cell_type": "markdown",
      "source": [
        "Question3:  What is the value of spam[int(int(3*2) / 11)]?\n",
        "\n",
        "Ans: 'd' (Note that '3' * 2 is the string '33', which is passed to int() before being divided by 11. \n",
        "This eventually evaluates to 3. Expressions can be used wherever values are used.)\n",
        "\n",
        "---\n",
        "\n",
        "\n",
        "\n",
        "---\n",
        "\n"
      ],
      "metadata": {
        "id": "plvKfYOAA-ii"
      }
    },
    {
      "cell_type": "markdown",
      "source": [
        "Question4:  What is the value of spam[-1]?\n",
        "\n",
        "Ans: 'd' (Negative indexes count from the end.)\n",
        "\n",
        "---\n",
        "\n",
        "\n",
        "\n",
        "---\n",
        "\n"
      ],
      "metadata": {
        "id": "8ZHpQCCQBMdK"
      }
    },
    {
      "cell_type": "markdown",
      "source": [
        "Question5:  What is the value of spam[:2]?\n",
        "\n",
        "Let's pretend bacon has the list [3.14, 'cat,' 11, 'cat,' True] for the next three questions.\n",
        "\n",
        "ANS: ['a', 'b']"
      ],
      "metadata": {
        "id": "OXb7KlU1BX7H"
      }
    },
    {
      "cell_type": "markdown",
      "source": [
        "Question6:  What is the value of bacon.index('cat')?\n",
        "\n",
        "Ans: 1\n",
        "\n",
        "---\n",
        "\n",
        "\n",
        "\n",
        "---\n",
        "\n"
      ],
      "metadata": {
        "id": "gIiafpd5Bl2S"
      }
    },
    {
      "cell_type": "markdown",
      "source": [
        "Question7: How does bacon.append(99) change the look of the list value in bacon?\n",
        "\n",
        "Ans: [3.14, 'cat', 11, 'cat', True, 99]\n",
        "\n",
        "---\n",
        "\n",
        "\n",
        "\n",
        "---\n",
        "\n"
      ],
      "metadata": {
        "id": "KgqxyUsrBuQp"
      }
    },
    {
      "cell_type": "markdown",
      "source": [
        "Question8:  How does bacon.remove('cat') change the look of the list in bacon?\n",
        "\n",
        "Ans: [3.14, 11, 'cat', True]\n",
        "\n",
        "---\n",
        "\n",
        "\n",
        "\n",
        "---\n",
        "\n"
      ],
      "metadata": {
        "id": "56qYK2b3B4-H"
      }
    },
    {
      "cell_type": "markdown",
      "source": [
        "Question9:  What are the list concatenation and list replication operators?\n",
        "\n",
        "Ans:The operator for list concatenation is +, while the operator for\n",
        "\n",
        "replication is *. (This is the same as for strings.)\n",
        "\n",
        "\n",
        "---\n",
        "\n",
        "\n",
        "\n",
        "---\n",
        "\n"
      ],
      "metadata": {
        "id": "18u_uwsnCF1H"
      }
    },
    {
      "cell_type": "markdown",
      "source": [
        "Question10: What is difference between the list methods append() and insert()?\n",
        "\n",
        "Ans: While append() will add values only to the end of a list, insert() can add them anywhere in the list.\n",
        "\n",
        "---\n",
        "\n",
        "\n",
        "\n",
        "---\n",
        "\n"
      ],
      "metadata": {
        "id": "Wxu9CWwzCOjo"
      }
    },
    {
      "cell_type": "markdown",
      "source": [
        "Question11: What are the two methods for removing items from a list?\n",
        "\n",
        "Ans: The del statement and the remove() list method are two ways to remove values from a list.\n",
        "\n",
        "---\n",
        "\n",
        "\n",
        "\n",
        "---\n",
        "\n"
      ],
      "metadata": {
        "id": "sVawkwUoCXc-"
      }
    },
    {
      "cell_type": "markdown",
      "source": [
        "Question12: Describe how list values and string values are identical.\n",
        "\n",
        "Ans:Both lists and strings can be passed to len(), have indexes and slices, be used in for loops, be concatenated or\n",
        "replicated, and be used with the in and not in operators.\n",
        "\n",
        "---\n",
        "\n",
        "\n",
        "\n",
        "---\n",
        "\n"
      ],
      "metadata": {
        "id": "5JBiGfKUCgmc"
      }
    },
    {
      "cell_type": "markdown",
      "source": [
        "Question13: What's the difference between tuples and lists?\n",
        "\n",
        "Ans: Lists are mutable; they can have values added, removed, or changed. Tuples are immutable; they cannot be changed at all. \n",
        "Also, tuples are written using parentheses, ( and ), while lists use the square brackets, [ and ].\n",
        "\n",
        "---\n",
        "\n",
        "\n",
        "\n",
        "---\n",
        "\n"
      ],
      "metadata": {
        "id": "fexUTiFuCrnA"
      }
    },
    {
      "cell_type": "markdown",
      "source": [
        "Question14: How do you type a tuple value that only contains the integer 42?\n",
        "\n",
        "Ans: (42,) (The trailing comma is mandatory.)\n",
        "\n",
        "---\n",
        "\n",
        "\n",
        "\n",
        "---\n",
        "\n"
      ],
      "metadata": {
        "id": "p-6G8YlUC1_9"
      }
    },
    {
      "cell_type": "markdown",
      "source": [
        "Question15: How do you get a list value's tuple form? How do you get a tuple value's list form?\n",
        "\n",
        "Ans: The tuple() and list() functions, respectively\n",
        "\n",
        "---\n",
        "\n",
        "\n",
        "\n",
        "---\n",
        "\n"
      ],
      "metadata": {
        "id": "lEI-yrElC_AO"
      }
    },
    {
      "cell_type": "markdown",
      "source": [
        "Question16. Variables that \"contain\" list values are not necessarily lists themselves. Instead, what do they\n",
        "contain?\n",
        "\n",
        "\n",
        "Ans: They contain references to list values.\n",
        "\n",
        "---\n",
        "\n",
        "\n",
        "\n",
        "---\n",
        "\n"
      ],
      "metadata": {
        "id": "xNYrHqZ-DHcl"
      }
    },
    {
      "cell_type": "markdown",
      "source": [
        "Question17. How do you distinguish between copy.copy() and copy.deepcopy()?\n",
        "\n",
        "Ans: The copy.copy() function will do a shallow copy of a list, while the copy.deepcopy()\n",
        "function will do a deep copy of a list. That is, only copy.deepcopy() will duplicate any lists inside the list.\n",
        "\n",
        "---\n",
        "\n",
        "\n",
        "\n",
        "---\n",
        "\n"
      ],
      "metadata": {
        "id": "svhtUS3gDPUI"
      }
    },
    {
      "cell_type": "code",
      "source": [],
      "metadata": {
        "id": "brplwUK6AVAE"
      },
      "execution_count": null,
      "outputs": []
    }
  ]
}